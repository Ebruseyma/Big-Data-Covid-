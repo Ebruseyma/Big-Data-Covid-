{
 "cells": [
  {
   "cell_type": "code",
   "execution_count": 1,
   "metadata": {},
   "outputs": [],
   "source": [
    "import pandas as pd\n",
    "import numpy as np"
   ]
  },
  {
   "cell_type": "code",
   "execution_count": 2,
   "metadata": {},
   "outputs": [],
   "source": [
    "# Table 1 Corona Index \n",
    "table_corona = pd.read_csv('modified_data/owid-covid-data.csv')\n",
    "# Table 2 Freedom Index \n",
    "table_freedom = pd.read_csv('modified_data/table_freedom_press.csv',decimal=',')\n",
    "# Table 3 GDP index\n",
    "table_gdp = pd.read_csv('modified_data/table_gdp.csv')\n",
    "# Table 4 Population Index \n",
    "table_population = pd.read_csv('modified_data/table_population.csv')\n",
    "# Table 5 Human Freedom\n",
    "table_hfi = pd.read_csv('modified_data/table_hfi.csv', na_values='-')\n",
    "# Table 6 Health Expenditure Index created in nha2.csv\n",
    "table_health_expenditure = pd.read_csv('modified_data/table_health_expenditure.csv')"
   ]
  },
  {
   "cell_type": "code",
   "execution_count": 3,
   "metadata": {},
   "outputs": [
    {
     "name": "stdout",
     "output_type": "stream",
     "text": [
      "\\begin{tabular}{lll}\n",
      "\\toprule\n",
      "{} &                             Columns & Data Types \\\\\n",
      "\\midrule\n",
      "0 &                          Unnamed: 0 &      int64 \\\\\n",
      "1 &                           Countries &     object \\\\\n",
      "2 &  current\\_health\\_expenditure\\_average &    float64 \\\\\n",
      "\\bottomrule\n",
      "\\end{tabular}\n",
      "\n"
     ]
    }
   ],
   "source": [
    "arr_hfi_dtypes = table_health_expenditure.dtypes.to_list()\n",
    "arr_hfi_cols = table_health_expenditure.columns.to_list()\n",
    "\n",
    " \n",
    "\n",
    "\n",
    "df_new = pd.DataFrame({'Columns' : arr_hfi_cols, 'Data Types': arr_hfi_dtypes})\n",
    "print(df_new.to_latex())"
   ]
  },
  {
   "cell_type": "code",
   "execution_count": 3,
   "metadata": {},
   "outputs": [
    {
     "name": "stdout",
     "output_type": "stream",
     "text": [
      "(54556, 52)\n",
      "(180, 14)\n",
      "(210, 6)\n",
      "(231, 17)\n",
      "(1550, 120)\n",
      "(189, 3)\n"
     ]
    }
   ],
   "source": [
    "print(table_corona.shape)\n",
    "print(table_freedom.shape)\n",
    "print(table_gdp.shape)\n",
    "print(table_population.shape)\n",
    "print(table_hfi.shape)\n",
    "print(table_health_expenditure.shape)"
   ]
  }
 ],
 "metadata": {
  "kernelspec": {
   "display_name": "Python 3",
   "language": "python",
   "name": "python3"
  },
  "language_info": {
   "codemirror_mode": {
    "name": "ipython",
    "version": 3
   },
   "file_extension": ".py",
   "mimetype": "text/x-python",
   "name": "python",
   "nbconvert_exporter": "python",
   "pygments_lexer": "ipython3",
   "version": "3.8.5"
  }
 },
 "nbformat": 4,
 "nbformat_minor": 4
}
