{
 "cells": [
  {
   "cell_type": "code",
   "execution_count": 547,
   "metadata": {},
   "outputs": [
    {
     "name": "stdout",
     "output_type": "stream",
     "text": [
      "Accuracy of K-NN classifier on training set: 0.68\n",
      "Accuracy of K-NN classifier on test set: 0.61\n",
      "[[17  0]\n",
      " [12  2]]\n",
      "              precision    recall  f1-score   support\n",
      "\n",
      "           0      0.586     1.000     0.739        17\n",
      "           1      1.000     0.143     0.250        14\n",
      "\n",
      "    accuracy                          0.613        31\n",
      "   macro avg      0.793     0.571     0.495        31\n",
      "weighted avg      0.773     0.613     0.518        31\n",
      "\n"
     ]
    }
   ],
   "source": [
    "import numpy as np\n",
    "import pandas as pd\n",
    "import matplotlib.pyplot as plt\n",
    "from sklearn.preprocessing import RobustScaler\n",
    "from sklearn.model_selection import train_test_split\n",
    "from sklearn.linear_model import LinearRegression\n",
    "from sklearn.preprocessing import KBinsDiscretizer\n",
    "from sklearn.neighbors import KNeighborsClassifier\n",
    "from sklearn.tree import DecisionTreeClassifier\n",
    "from sklearn import metrics\n",
    "\n",
    "# Create Table and Feature Selection\n",
    "table_full = pd.read_csv('table_full.csv')\n",
    "\n",
    "table_full = table_full.loc[:, ]\n",
    "\n",
    "progRank = table_full['Progression RANK'].values\n",
    "\n",
    "\n",
    "# Create Dummies Varibles\n",
    "dummies = pd.get_dummies(table_full[['region', 'countries']])\n",
    "table_full = pd.concat([table_full, dummies], axis=1)\n",
    "\n",
    "del table_full['countries']\n",
    "del table_full['region']\n",
    "\n",
    "# Creating Y\n",
    "est = KBinsDiscretizer(n_bins=2, encode='ordinal', strategy='uniform')\n",
    "progreesinRank = progRank.reshape(-1,1)\n",
    "est.fit(progreesinRank)\n",
    "y = est.transform(progreesinRank).astype(np.int64)\n",
    "\n",
    "###################################################################################\n",
    "#With Robust\n",
    "robustscaler = RobustScaler()\n",
    "table_full_robusted = robustscaler.fit_transform(table_full)\n",
    "table_full_robusted = pd.DataFrame(table_full_robusted, columns=table_full.columns)\n",
    "list_X = list(table_full.columns)\n",
    "X = table_full_robusted[list(list_X)].values\n",
    "\n",
    "#del table_full_robusted['Progression RANK']\n",
    "\n",
    "# Without Robust\n",
    "# del table_full_robusted['Progression RANK']\n",
    "\n",
    "# list_X = list(table_full.columns)\n",
    "# X = table_full[list(list_X)].values\n",
    "\n",
    "###################################################################################\n",
    "X_train, X_test, y_train, y_test = train_test_split(X, y, test_size=0.3)\n",
    "\n",
    "# KNN MOdel Creation\n",
    "knn = KNeighborsClassifier()\n",
    "\n",
    "knn.fit(X_train, y_train.ravel())\n",
    "print('Accuracy of K-NN classifier on training set: {:.2f}'.format(knn.score(X_train, y_train)))\n",
    "print('Accuracy of K-NN classifier on test set: {:.2f}'.format(knn.score(X_test, y_test)))\n",
    "\n",
    "# Evaluation\n",
    "y_pred_class = knn.predict(X_test)\n",
    "\n",
    "confusion = metrics.confusion_matrix(y_test, y_pred_class)\n",
    "print(confusion)\n",
    "\n",
    "print(metrics.classification_report(y_test, y_pred_class, digits=3))"
   ]
  }
 ],
 "metadata": {
  "kernelspec": {
   "display_name": "Python 3",
   "language": "python",
   "name": "python3"
  },
  "language_info": {
   "codemirror_mode": {
    "name": "ipython",
    "version": 3
   },
   "file_extension": ".py",
   "mimetype": "text/x-python",
   "name": "python",
   "nbconvert_exporter": "python",
   "pygments_lexer": "ipython3",
   "version": "3.8.5"
  }
 },
 "nbformat": 4,
 "nbformat_minor": 4
}
