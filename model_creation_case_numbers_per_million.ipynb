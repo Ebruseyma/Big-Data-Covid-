{
 "cells": [
  {
   "cell_type": "code",
   "execution_count": 152,
   "metadata": {},
   "outputs": [
    {
     "name": "stdout",
     "output_type": "stream",
     "text": [
      "MAE:  20513.15142766872\n",
      "MSE:  816073920.0242344\n",
      "RMSE:  28567.00754409244\n"
     ]
    }
   ],
   "source": [
    "import numpy as np\n",
    "import pandas as pd\n",
    "import matplotlib.pyplot as plt\n",
    "from sklearn.preprocessing import RobustScaler\n",
    "from sklearn.model_selection import train_test_split\n",
    "from sklearn.linear_model import LinearRegression\n",
    "from sklearn import metrics\n",
    "\n",
    "table_full = pd.read_csv('table_full.csv')\n",
    "del table_full['Unnamed: 0']\n",
    "\n",
    "robustscaler = RobustScaler()\n",
    "\n",
    "dummies = pd.get_dummies(table_full[['region']])\n",
    "\n",
    "table_full = pd.concat([table_full, dummies], axis=1)\n",
    "\n",
    "del table_full['countries']\n",
    "del table_full['region']\n",
    "\n",
    "\n",
    "table_full_robusted = robustscaler.fit_transform(table_full)\n",
    "table_full_robusted = pd.DataFrame(table_full_robusted, columns=table_full.columns)\n",
    "del table_full_robusted['total_cases_per_million']\n",
    "\n",
    "list_X = list(table_full_robusted.columns)\n",
    "\n",
    "X = table_full_robusted[list(list_X)].values\n",
    "\n",
    "y = table_full['total_cases_per_million'].values.reshape(-1,1)\n",
    "X_train, X_test, y_train, y_test = train_test_split(X, y, test_size=0.3)\n",
    "\n",
    "\n",
    "regressor = LinearRegression()\n",
    "regressor.fit(X_train, y_train)\n",
    "\n",
    "y_pred = regressor.predict(X_test)\n",
    "\n",
    "MAE = metrics.mean_absolute_error(y_test, y_pred)\n",
    "MSE = metrics.mean_squared_error(y_test, y_pred)\n",
    "RMSE = np.sqrt(metrics.mean_squared_error(y_test, y_pred))\n",
    "\n",
    "print('MAE: ', MAE)\n",
    "print('MSE: ', MSE)\n",
    "print('RMSE: ', RMSE)\n",
    "\n",
    "df = pd.DataFrame({'Actual': y_test.flatten(), 'Predicted': y_pred.flatten()})"
   ]
  }
 ],
 "metadata": {
  "kernelspec": {
   "display_name": "Python 3",
   "language": "python",
   "name": "python3"
  },
  "language_info": {
   "codemirror_mode": {
    "name": "ipython",
    "version": 3
   },
   "file_extension": ".py",
   "mimetype": "text/x-python",
   "name": "python",
   "nbconvert_exporter": "python",
   "pygments_lexer": "ipython3",
   "version": "3.8.5"
  }
 },
 "nbformat": 4,
 "nbformat_minor": 4
}
